{
  "nbformat": 4,
  "nbformat_minor": 0,
  "metadata": {
    "colab": {
      "provenance": [],
      "collapsed_sections": [],
      "authorship_tag": "ABX9TyMZVfX1KORf4FHHpFxYWdZc",
      "include_colab_link": true
    },
    "kernelspec": {
      "name": "python3",
      "display_name": "Python 3"
    },
    "language_info": {
      "name": "python"
    }
  },
  "cells": [
    {
      "cell_type": "markdown",
      "metadata": {
        "id": "view-in-github",
        "colab_type": "text"
      },
      "source": [
        "<a href=\"https://colab.research.google.com/github/mnngit/nur_nabi/blob/main/00_Lesson_Hello_World.ipynb\" target=\"_parent\"><img src=\"https://colab.research.google.com/assets/colab-badge.svg\" alt=\"Open In Colab\"/></a>"
      ]
    },
    {
      "cell_type": "code",
      "execution_count": 6,
      "metadata": {
        "colab": {
          "base_uri": "https://localhost:8080/"
        },
        "id": "EAUfHoiZsjX3",
        "outputId": "e4876ceb-784e-4405-fb0a-257952c5b7ec"
      },
      "outputs": [
        {
          "output_type": "stream",
          "name": "stdout",
          "text": [
            "What is your name? nur\n",
            "Hello, Nur\n",
            "How old are you? 40\n",
            "I am 40 years old.\n"
          ]
        }
      ],
      "source": [
        "name = input('What is your name? ')\n",
        "print('Hello,', name.capitalize())\n",
        "age = input('How old are you? ')\n",
        "print('I am', age, 'years old.')"
      ]
    },
    {
      "cell_type": "code",
      "source": [
        "s = 'nur'\n",
        "t = s.capitalize()"
      ],
      "metadata": {
        "id": "PaRtv5hQmQul"
      },
      "execution_count": 8,
      "outputs": []
    },
    {
      "cell_type": "code",
      "source": [
        "t"
      ],
      "metadata": {
        "colab": {
          "base_uri": "https://localhost:8080/",
          "height": 35
        },
        "id": "cGB2xGlSnxoR",
        "outputId": "e94fd448-34aa-4135-f65e-9beb8e12d155"
      },
      "execution_count": 9,
      "outputs": [
        {
          "output_type": "execute_result",
          "data": {
            "text/plain": [
              "'Nur'"
            ],
            "application/vnd.google.colaboratory.intrinsic+json": {
              "type": "string"
            }
          },
          "metadata": {},
          "execution_count": 9
        }
      ]
    },
    {
      "cell_type": "code",
      "source": [
        "print(t)"
      ],
      "metadata": {
        "colab": {
          "base_uri": "https://localhost:8080/"
        },
        "id": "95HKZr4An37h",
        "outputId": "14579662-f09d-4394-9aaa-8c77b2b0423f"
      },
      "execution_count": 10,
      "outputs": [
        {
          "output_type": "stream",
          "name": "stdout",
          "text": [
            "Nur\n"
          ]
        }
      ]
    },
    {
      "cell_type": "code",
      "source": [
        "'nur'.upper()"
      ],
      "metadata": {
        "colab": {
          "base_uri": "https://localhost:8080/",
          "height": 35
        },
        "id": "zRhy44c3n7OO",
        "outputId": "a696f2d2-48ef-4f0c-b065-f2a0b21f6832"
      },
      "execution_count": 11,
      "outputs": [
        {
          "output_type": "execute_result",
          "data": {
            "text/plain": [
              "'NUR'"
            ],
            "application/vnd.google.colaboratory.intrinsic+json": {
              "type": "string"
            }
          },
          "metadata": {},
          "execution_count": 11
        }
      ]
    },
    {
      "cell_type": "code",
      "source": [
        "\"NUR\".lower()"
      ],
      "metadata": {
        "colab": {
          "base_uri": "https://localhost:8080/",
          "height": 35
        },
        "id": "fONdRHjUox6w",
        "outputId": "b07a39bd-8b1c-4021-cdd8-924ecc9e0daa"
      },
      "execution_count": 12,
      "outputs": [
        {
          "output_type": "execute_result",
          "data": {
            "text/plain": [
              "'nur'"
            ],
            "application/vnd.google.colaboratory.intrinsic+json": {
              "type": "string"
            }
          },
          "metadata": {},
          "execution_count": 12
        }
      ]
    },
    {
      "cell_type": "code",
      "source": [
        "\"232\".isdecimal()"
      ],
      "metadata": {
        "colab": {
          "base_uri": "https://localhost:8080/"
        },
        "id": "nkfp6MnhpCAQ",
        "outputId": "40133e3f-03fc-465c-e6bd-305624530cf8"
      },
      "execution_count": 13,
      "outputs": [
        {
          "output_type": "execute_result",
          "data": {
            "text/plain": [
              "True"
            ]
          },
          "metadata": {},
          "execution_count": 13
        }
      ]
    },
    {
      "cell_type": "code",
      "source": [
        "\"nur\".isdecimal()"
      ],
      "metadata": {
        "colab": {
          "base_uri": "https://localhost:8080/"
        },
        "id": "cAINdJFZpT1Z",
        "outputId": "0a5506a7-c965-4ca2-be4a-0bf5035aea23"
      },
      "execution_count": 14,
      "outputs": [
        {
          "output_type": "execute_result",
          "data": {
            "text/plain": [
              "False"
            ]
          },
          "metadata": {},
          "execution_count": 14
        }
      ]
    },
    {
      "cell_type": "code",
      "source": [
        "name = \"Nur\"\n",
        "name.replace(\"N\",\"F\")"
      ],
      "metadata": {
        "colab": {
          "base_uri": "https://localhost:8080/",
          "height": 35
        },
        "id": "0Y_FCXeMpXLv",
        "outputId": "40c75e27-5a3b-453a-8785-3de73d04bd55"
      },
      "execution_count": 15,
      "outputs": [
        {
          "output_type": "execute_result",
          "data": {
            "text/plain": [
              "'Fur'"
            ],
            "application/vnd.google.colaboratory.intrinsic+json": {
              "type": "string"
            }
          },
          "metadata": {},
          "execution_count": 15
        }
      ]
    },
    {
      "cell_type": "code",
      "source": [
        "print(\"Nur\")\n",
        "print(\"Nabi\")"
      ],
      "metadata": {
        "colab": {
          "base_uri": "https://localhost:8080/"
        },
        "id": "TrHEIcCYp1DH",
        "outputId": "41f3fc78-6ce2-4d21-bb5f-ac432cdf195e"
      },
      "execution_count": 18,
      "outputs": [
        {
          "output_type": "stream",
          "name": "stdout",
          "text": [
            "Nur\n",
            "Nabi\n"
          ]
        }
      ]
    },
    {
      "cell_type": "code",
      "source": [
        "print(\"Nur\", end = ' ')\n",
        "\n",
        "print(\"Nabi\")\n"
      ],
      "metadata": {
        "colab": {
          "base_uri": "https://localhost:8080/"
        },
        "id": "wVmWZx-IqSK5",
        "outputId": "729350d0-3472-40d9-a0c6-cadffdb21790"
      },
      "execution_count": 20,
      "outputs": [
        {
          "output_type": "stream",
          "name": "stdout",
          "text": [
            "Nur Nabi\n"
          ]
        }
      ]
    },
    {
      "cell_type": "markdown",
      "source": [
        "# Project#001"
      ],
      "metadata": {
        "id": "Kla4eoBK9WIY"
      }
    },
    {
      "cell_type": "code",
      "source": [
        "print(\"Hello, World!\")"
      ],
      "metadata": {
        "colab": {
          "base_uri": "https://localhost:8080/"
        },
        "id": "mSzyKHx09eAY",
        "outputId": "f012d141-c9b1-429a-8022-bdd55cc06f87"
      },
      "execution_count": 21,
      "outputs": [
        {
          "output_type": "stream",
          "name": "stdout",
          "text": [
            "Hello, World!\n"
          ]
        }
      ]
    },
    {
      "cell_type": "code",
      "source": [
        "name = input(\"What is your name? \")\n",
        "print(\"Hello, \", name.capitalize() )"
      ],
      "metadata": {
        "colab": {
          "base_uri": "https://localhost:8080/"
        },
        "id": "d4A6ipGS9tw5",
        "outputId": "0733b56e-ae6d-4dc8-9837-a63b44847543"
      },
      "execution_count": 28,
      "outputs": [
        {
          "output_type": "stream",
          "name": "stdout",
          "text": [
            "What is your name? Nur.\n",
            "Hello,  Nur.\n"
          ]
        }
      ]
    },
    {
      "cell_type": "code",
      "source": [
        "name = input(\"Write your name. \")\n",
        "print('I LIKE CAPITAL LETTER,', name.upper())"
      ],
      "metadata": {
        "colab": {
          "base_uri": "https://localhost:8080/"
        },
        "id": "4CCOYadS-zZh",
        "outputId": "8889e2ad-9adb-4787-fc55-51852246dfd8"
      },
      "execution_count": 30,
      "outputs": [
        {
          "output_type": "stream",
          "name": "stdout",
          "text": [
            "Write your name. mohammed\n",
            "I LIKE CAPITAL LETTER, MOHAMMED\n"
          ]
        }
      ]
    },
    {
      "cell_type": "code",
      "source": [],
      "metadata": {
        "id": "X5zCNSw6_5gv"
      },
      "execution_count": 29,
      "outputs": []
    }
  ]
}